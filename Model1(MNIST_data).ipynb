{
  "nbformat": 4,
  "nbformat_minor": 0,
  "metadata": {
    "colab": {
      "name": "TF_beginners_tutorial(MNIST data).ipynb",
      "provenance": [],
      "collapsed_sections": [],
      "authorship_tag": "ABX9TyMQddb1udG32HrS5TczXJX4",
      "include_colab_link": true
    },
    "kernelspec": {
      "name": "python3",
      "display_name": "Python 3"
    },
    "language_info": {
      "name": "python"
    }
  },
  "cells": [
    {
      "cell_type": "markdown",
      "metadata": {
        "id": "view-in-github",
        "colab_type": "text"
      },
      "source": [
        "<a href=\"https://colab.research.google.com/github/aatiqa-ghazali/Deep_Learning-with-Tensor_Flow/blob/main/Model1(MNIST_data).ipynb\" target=\"_parent\"><img src=\"https://colab.research.google.com/assets/colab-badge.svg\" alt=\"Open In Colab\"/></a>"
      ]
    },
    {
      "cell_type": "code",
      "source": [
        "from google.colab import drive\n",
        "drive.mount('/content/drive')"
      ],
      "metadata": {
        "colab": {
          "base_uri": "https://localhost:8080/"
        },
        "id": "10PyLhCrdDYf",
        "outputId": "44e08dda-0090-4836-beda-275be95421a9"
      },
      "execution_count": null,
      "outputs": [
        {
          "output_type": "stream",
          "name": "stdout",
          "text": [
            "Mounted at /content/drive\n"
          ]
        }
      ]
    },
    {
      "cell_type": "markdown",
      "source": [
        "### **TensorFlow 2 quickstart for beginners **"
      ],
      "metadata": {
        "id": "hauBY8zTtphp"
      }
    },
    {
      "cell_type": "code",
      "source": [
        "import tensorflow as tf "
      ],
      "metadata": {
        "id": "RXDL-BVa95gy"
      },
      "execution_count": null,
      "outputs": []
    },
    {
      "cell_type": "markdown",
      "source": [
        "#load_dataset"
      ],
      "metadata": {
        "id": "XrffbPxjtwIN"
      }
    },
    {
      "cell_type": "code",
      "source": [
        "mnist=tf.keras.datasets.mnist\n",
        "(x_train,y_train),(x_test,y_test)=mnist.load_data()\n",
        "#Convert the sample data from integers to floating-point numbers:\n",
        "x_train=x_train / 255.0\n",
        "x_test=x_test / 255.0"
      ],
      "metadata": {
        "id": "2SE8lVkztyEl"
      },
      "execution_count": null,
      "outputs": []
    },
    {
      "cell_type": "markdown",
      "source": [
        "#Building a ML Model"
      ],
      "metadata": {
        "id": "HBniiFizutj8"
      }
    },
    {
      "cell_type": "code",
      "source": [
        "model=tf.keras.Sequential([\n",
        "                           tf.keras.layers.Flatten(input_shape=(28,28)),\n",
        "                           tf.keras.layers.Dense(128,activation='relu'),\n",
        "                           tf.keras.layers.Dropout(0.2),\n",
        "                           tf.keras.layers.Dense(10)\n",
        "                           \n",
        "                           ])"
      ],
      "metadata": {
        "id": "6Qz9u9_iy1_W"
      },
      "execution_count": null,
      "outputs": []
    },
    {
      "cell_type": "code",
      "source": [
        "predictions=model(x_train[:1]).numpy()\n",
        "predictions"
      ],
      "metadata": {
        "colab": {
          "base_uri": "https://localhost:8080/"
        },
        "id": "4mT7of280bhg",
        "outputId": "bf757a26-789a-4314-954d-34e1a8a2b2f6"
      },
      "execution_count": null,
      "outputs": [
        {
          "output_type": "execute_result",
          "data": {
            "text/plain": [
              "array([[-0.04720545, -0.2402462 , -0.00056284,  0.04879511,  0.03114077,\n",
              "         0.24297646, -0.37628248, -0.01829902,  0.07524966,  0.5480435 ]],\n",
              "      dtype=float32)"
            ]
          },
          "metadata": {},
          "execution_count": 9
        }
      ]
    },
    {
      "cell_type": "markdown",
      "source": [
        "The tf.nn.softmax function converts these logits to probabilities for each class:\n",
        "\n"
      ],
      "metadata": {
        "id": "zsj40qGR03_X"
      }
    },
    {
      "cell_type": "code",
      "source": [
        "tf.nn.softmax(predictions).numpy"
      ],
      "metadata": {
        "colab": {
          "base_uri": "https://localhost:8080/"
        },
        "id": "DmeCAFTL049i",
        "outputId": "c8cf3936-b26f-48cc-9568-61d9f1d755bd"
      },
      "execution_count": null,
      "outputs": [
        {
          "output_type": "execute_result",
          "data": {
            "text/plain": [
              "<bound method _EagerTensorBase.numpy of <tf.Tensor: shape=(1, 10), dtype=float32, numpy=\n",
              "array([[0.09022184, 0.07438325, 0.09452971, 0.09931257, 0.09757465,\n",
              "        0.12059689, 0.06492252, 0.09286788, 0.1019749 , 0.16361572]],\n",
              "      dtype=float32)>>"
            ]
          },
          "metadata": {},
          "execution_count": 10
        }
      ]
    },
    {
      "cell_type": "markdown",
      "source": [
        "Loss function"
      ],
      "metadata": {
        "id": "TyPx9rzV1HRi"
      }
    },
    {
      "cell_type": "code",
      "source": [
        "loss_fn=tf.keras.losses.SparseCategoricalCrossentropy(from_logits=True)"
      ],
      "metadata": {
        "id": "QlTwvLPk1Iid"
      },
      "execution_count": null,
      "outputs": []
    },
    {
      "cell_type": "code",
      "source": [
        "loss_fn(y_train[:1],predictions).numpy()"
      ],
      "metadata": {
        "colab": {
          "base_uri": "https://localhost:8080/"
        },
        "id": "1OKpdlTs1n9z",
        "outputId": "d96fd578-627d-4ddd-c20f-3bc3a1a579c3"
      },
      "execution_count": null,
      "outputs": [
        {
          "output_type": "execute_result",
          "data": {
            "text/plain": [
              "2.1153018"
            ]
          },
          "metadata": {},
          "execution_count": 12
        }
      ]
    },
    {
      "cell_type": "markdown",
      "source": [
        "Before you start training, configure and compile the model using Keras Model.compile. Set the optimizer class to adam, set the loss to the loss_fn function you defined earlier, and specify a metric to be evaluated for the model by setting the metrics parameter to accuracy."
      ],
      "metadata": {
        "id": "Cg4j33ug13w9"
      }
    },
    {
      "cell_type": "code",
      "source": [
        "model.compile(optimizer='adam',\n",
        "              loss=loss_fn,\n",
        "              metrics=['accuracy'])"
      ],
      "metadata": {
        "id": "oAzVirPY15Pt"
      },
      "execution_count": null,
      "outputs": []
    },
    {
      "cell_type": "markdown",
      "source": [
        "Train and Evaluate"
      ],
      "metadata": {
        "id": "He6pMT6B2U5a"
      }
    },
    {
      "cell_type": "code",
      "source": [
        "model.fit(x_train,y_train,epochs=5)"
      ],
      "metadata": {
        "colab": {
          "base_uri": "https://localhost:8080/"
        },
        "id": "_kMaoWEf2Wej",
        "outputId": "ee8cb63f-55a1-48e7-de65-2ad90c90c5e0"
      },
      "execution_count": null,
      "outputs": [
        {
          "output_type": "stream",
          "name": "stdout",
          "text": [
            "Epoch 1/5\n",
            "1875/1875 [==============================] - 6s 3ms/step - loss: 0.2975 - accuracy: 0.9137\n",
            "Epoch 2/5\n",
            "1875/1875 [==============================] - 5s 3ms/step - loss: 0.1410 - accuracy: 0.9566\n",
            "Epoch 3/5\n",
            "1875/1875 [==============================] - 5s 3ms/step - loss: 0.1076 - accuracy: 0.9669\n",
            "Epoch 4/5\n",
            "1875/1875 [==============================] - 5s 3ms/step - loss: 0.0861 - accuracy: 0.9737\n",
            "Epoch 5/5\n",
            "1875/1875 [==============================] - 5s 3ms/step - loss: 0.0734 - accuracy: 0.9766\n"
          ]
        },
        {
          "output_type": "execute_result",
          "data": {
            "text/plain": [
              "<keras.callbacks.History at 0x7f7b17256490>"
            ]
          },
          "metadata": {},
          "execution_count": 14
        }
      ]
    },
    {
      "cell_type": "markdown",
      "source": [
        "Evaluate"
      ],
      "metadata": {
        "id": "sUtTSTpz2z37"
      }
    },
    {
      "cell_type": "code",
      "source": [
        "model.evaluate(x_test,y_test,verbose=2)"
      ],
      "metadata": {
        "colab": {
          "base_uri": "https://localhost:8080/"
        },
        "id": "iu1TiAcQ2zMj",
        "outputId": "e4f9cdeb-a840-4dd2-d553-60f29c390291"
      },
      "execution_count": null,
      "outputs": [
        {
          "output_type": "stream",
          "name": "stdout",
          "text": [
            "313/313 - 1s - loss: 0.0767 - accuracy: 0.9769 - 659ms/epoch - 2ms/step\n"
          ]
        },
        {
          "output_type": "execute_result",
          "data": {
            "text/plain": [
              "[0.07667198777198792, 0.9768999814987183]"
            ]
          },
          "metadata": {},
          "execution_count": 15
        }
      ]
    },
    {
      "cell_type": "markdown",
      "source": [
        "For probablity - an additinal step"
      ],
      "metadata": {
        "id": "vfzKNSbg3DX_"
      }
    },
    {
      "cell_type": "code",
      "source": [
        "probability_model=tf.keras.Sequential([model,tf.keras.layers.Softmax()])"
      ],
      "metadata": {
        "id": "Fd31AQr93Grh"
      },
      "execution_count": null,
      "outputs": []
    },
    {
      "cell_type": "code",
      "source": [
        "probability_model(x_test[:5])"
      ],
      "metadata": {
        "colab": {
          "base_uri": "https://localhost:8080/"
        },
        "id": "LQbEwC5Y3jfM",
        "outputId": "448e2bd7-abcc-4a6c-ca49-a680fb0ab190"
      },
      "execution_count": null,
      "outputs": [
        {
          "output_type": "execute_result",
          "data": {
            "text/plain": [
              "<tf.Tensor: shape=(5, 10), dtype=float32, numpy=\n",
              "array([[3.68390936e-08, 4.82781548e-09, 2.73906862e-05, 2.01607545e-05,\n",
              "        2.01683722e-12, 1.68870670e-07, 2.63526153e-13, 9.99951005e-01,\n",
              "        6.05713012e-07, 6.47308525e-07],\n",
              "       [1.00490695e-07, 8.23917289e-05, 9.99880314e-01, 3.34687393e-05,\n",
              "        1.08551770e-14, 1.95568487e-06, 1.64195581e-06, 3.05406552e-13,\n",
              "        6.81799506e-08, 1.41513869e-15],\n",
              "       [1.38443443e-06, 9.96498704e-01, 1.50492636e-03, 8.12330109e-05,\n",
              "        3.13841010e-05, 2.64407681e-05, 7.68301834e-05, 1.69247075e-03,\n",
              "        8.64390240e-05, 1.72217369e-07],\n",
              "       [9.99788940e-01, 2.13268825e-09, 9.09889350e-05, 4.29471996e-08,\n",
              "        4.87135480e-07, 3.53155133e-06, 4.13076559e-05, 7.21347824e-05,\n",
              "        1.67030887e-08, 2.57128818e-06],\n",
              "       [2.63620291e-06, 8.67664252e-09, 1.90244809e-05, 2.52236205e-08,\n",
              "        9.98508036e-01, 2.29853555e-07, 1.97809150e-05, 2.13904830e-04,\n",
              "        5.01332465e-07, 1.23593537e-03]], dtype=float32)>"
            ]
          },
          "metadata": {},
          "execution_count": 18
        }
      ]
    }
  ]
}